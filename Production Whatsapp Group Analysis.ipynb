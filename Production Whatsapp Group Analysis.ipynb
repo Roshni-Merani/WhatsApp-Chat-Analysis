{
 "cells": [
  {
   "cell_type": "code",
   "execution_count": 1,
   "id": "dd15cc28",
   "metadata": {},
   "outputs": [],
   "source": [
    "import re\n",
    "import datetime\n",
    "from datetime import datetime\n",
    "import jovian\n",
    "import numpy as np\n",
    "import pandas as pd\n",
    "import matplotlib.pyplot as plt\n",
    "import seaborn as sns\n",
    "import emoji\n",
    "import itertools\n",
    "from collections import Counter\n",
    "import warnings\n",
    "%matplotlib inline\n",
    "warnings.filterwarnings(\"ignore\")\n",
    "from matplotlib.figure import Figure\n",
    "from matplotlib.backends.backend_agg import FigureCanvasAgg as FigureCanvas"
   ]
  },
  {
   "cell_type": "markdown",
   "id": "369e65ee",
   "metadata": {},
   "source": [
    "## Data Preprocessing"
   ]
  },
  {
   "cell_type": "code",
   "execution_count": 2,
   "id": "51525e14",
   "metadata": {},
   "outputs": [],
   "source": [
    "def rawToDf(file, key):\n",
    "    '''Converts raw .txt file into a Data Frame'''\n",
    "    \n",
    "    split_formats = {\n",
    "        '12hr' : '\\d{1,2}/\\d{1,2}/\\d{2,4},\\s\\d{1,2}:\\d{2}\\s[APap][mM]\\s-\\s'\n",
    "    }\n",
    "    datetime_formats = {\n",
    "        '12hr' : '%d/%m/%y %I:%M %p'\n",
    "    }\n",
    "    \n",
    "    with open(file, 'r', encoding='utf-8') as raw_data:\n",
    "        # print(raw_data.read())\n",
    "        raw_string = ' '.join(raw_data.read().split('\\n')) # converting the list split by newline char. as one whole string as there can be multi-line messages\n",
    "        user_msg = re.split(split_formats[key], raw_string) [1:] # splits at all the date-time pattern, resulting in list of all the messages with user names\n",
    "        date_time = re.findall(split_formats[key], raw_string) # finds all the date-time patterns\n",
    "        \n",
    "        df = pd.DataFrame({'date_time': date_time, 'user_msg': user_msg}) # exporting it to a df\n",
    "    \n",
    "    # split user and msg \n",
    "    usernames = []\n",
    "    msgs = []\n",
    "    for i in df['user_msg']:\n",
    "        a = re.split('([\\w\\W]+?):\\s', i) # lazy pattern match to first {user_name}: pattern and spliting it aka each msg from a user\n",
    "        if(a[1:]): # user typed messages\n",
    "            usernames.append(a[1])\n",
    "            msgs.append(a[2])\n",
    "        else: # other notifications in the group(eg: someone was added, some left ...)\n",
    "            usernames.append(\"group_notification\")\n",
    "            msgs.append(a[0])\n",
    "\n",
    "    # creating new columns         \n",
    "    df['user'] = usernames\n",
    "    df['message'] = msgs\n",
    "\n",
    "    # dropping the old user_msg col.\n",
    "    df.drop('user_msg', axis=1, inplace=True)\n",
    "    \n",
    "    return df"
   ]
  },
  {
   "cell_type": "code",
   "execution_count": 3,
   "id": "9842bdc2",
   "metadata": {},
   "outputs": [],
   "source": [
    "df = rawToDf(\"OF.txt\",\"12hr\")"
   ]
  },
  {
   "cell_type": "code",
   "execution_count": 4,
   "id": "e51f9bde",
   "metadata": {},
   "outputs": [
    {
     "data": {
      "text/html": [
       "<div>\n",
       "<style scoped>\n",
       "    .dataframe tbody tr th:only-of-type {\n",
       "        vertical-align: middle;\n",
       "    }\n",
       "\n",
       "    .dataframe tbody tr th {\n",
       "        vertical-align: top;\n",
       "    }\n",
       "\n",
       "    .dataframe thead th {\n",
       "        text-align: right;\n",
       "    }\n",
       "</style>\n",
       "<table border=\"1\" class=\"dataframe\">\n",
       "  <thead>\n",
       "    <tr style=\"text-align: right;\">\n",
       "      <th></th>\n",
       "      <th>date_time</th>\n",
       "      <th>user</th>\n",
       "      <th>message</th>\n",
       "    </tr>\n",
       "  </thead>\n",
       "  <tbody>\n",
       "    <tr>\n",
       "      <th>0</th>\n",
       "      <td>20/07/20, 7:57 pm -</td>\n",
       "      <td>group_notification</td>\n",
       "      <td>Messages and calls are end-to-end encrypted. N...</td>\n",
       "    </tr>\n",
       "    <tr>\n",
       "      <th>1</th>\n",
       "      <td>06/08/15, 10:58 pm -</td>\n",
       "      <td>group_notification</td>\n",
       "      <td>Nani created group \"Our Family\"</td>\n",
       "    </tr>\n",
       "    <tr>\n",
       "      <th>2</th>\n",
       "      <td>20/07/20, 7:57 pm -</td>\n",
       "      <td>group_notification</td>\n",
       "      <td>Nani added you</td>\n",
       "    </tr>\n",
       "    <tr>\n",
       "      <th>3</th>\n",
       "      <td>20/07/20, 7:57 pm -</td>\n",
       "      <td>group_notification</td>\n",
       "      <td>Nani added Shreya Didi</td>\n",
       "    </tr>\n",
       "  </tbody>\n",
       "</table>\n",
       "</div>"
      ],
      "text/plain": [
       "               date_time                user  \\\n",
       "0   20/07/20, 7:57 pm -   group_notification   \n",
       "1  06/08/15, 10:58 pm -   group_notification   \n",
       "2   20/07/20, 7:57 pm -   group_notification   \n",
       "3   20/07/20, 7:57 pm -   group_notification   \n",
       "\n",
       "                                             message  \n",
       "0  Messages and calls are end-to-end encrypted. N...  \n",
       "1                   Nani created group \"Our Family\"   \n",
       "2                                    Nani added you   \n",
       "3                            Nani added Shreya Didi   "
      ]
     },
     "execution_count": 4,
     "metadata": {},
     "output_type": "execute_result"
    }
   ],
   "source": [
    "df.head(4)"
   ]
  },
  {
   "cell_type": "code",
   "execution_count": 5,
   "id": "6067fdc8",
   "metadata": {},
   "outputs": [
    {
     "data": {
      "text/plain": [
       "date_time    object\n",
       "user         object\n",
       "message      object\n",
       "dtype: object"
      ]
     },
     "execution_count": 5,
     "metadata": {},
     "output_type": "execute_result"
    }
   ],
   "source": [
    "df.dtypes"
   ]
  },
  {
   "cell_type": "code",
   "execution_count": 6,
   "id": "3bbb6426",
   "metadata": {},
   "outputs": [],
   "source": [
    "data = df.drop([0,1,2], axis=0, inplace= True)"
   ]
  },
  {
   "cell_type": "code",
   "execution_count": 7,
   "id": "69da7578",
   "metadata": {},
   "outputs": [],
   "source": [
    "df.drop(df.index[df['user'] == 'group_notification'], inplace = True)"
   ]
  },
  {
   "cell_type": "code",
   "execution_count": 8,
   "id": "cd94b779",
   "metadata": {},
   "outputs": [
    {
     "data": {
      "text/html": [
       "<div>\n",
       "<style scoped>\n",
       "    .dataframe tbody tr th:only-of-type {\n",
       "        vertical-align: middle;\n",
       "    }\n",
       "\n",
       "    .dataframe tbody tr th {\n",
       "        vertical-align: top;\n",
       "    }\n",
       "\n",
       "    .dataframe thead th {\n",
       "        text-align: right;\n",
       "    }\n",
       "</style>\n",
       "<table border=\"1\" class=\"dataframe\">\n",
       "  <thead>\n",
       "    <tr style=\"text-align: right;\">\n",
       "      <th></th>\n",
       "      <th>date_time</th>\n",
       "      <th>user</th>\n",
       "      <th>message</th>\n",
       "    </tr>\n",
       "  </thead>\n",
       "  <tbody>\n",
       "    <tr>\n",
       "      <th>4</th>\n",
       "      <td>20/07/20, 8:22 pm -</td>\n",
       "      <td>Seema Masi</td>\n",
       "      <td>&lt;Media omitted&gt;</td>\n",
       "    </tr>\n",
       "    <tr>\n",
       "      <th>5</th>\n",
       "      <td>20/07/20, 8:50 pm -</td>\n",
       "      <td>Shanu Bhaiya</td>\n",
       "      <td>This message was deleted</td>\n",
       "    </tr>\n",
       "    <tr>\n",
       "      <th>6</th>\n",
       "      <td>20/07/20, 9:23 pm -</td>\n",
       "      <td>Papa</td>\n",
       "      <td>This message was deleted</td>\n",
       "    </tr>\n",
       "    <tr>\n",
       "      <th>7</th>\n",
       "      <td>20/07/20, 9:24 pm -</td>\n",
       "      <td>Shanu Bhaiya</td>\n",
       "      <td>Itna support karne ke baad democracy mein itna...</td>\n",
       "    </tr>\n",
       "    <tr>\n",
       "      <th>8</th>\n",
       "      <td>20/07/20, 9:24 pm -</td>\n",
       "      <td>Shanu Bhaiya</td>\n",
       "      <td>🤔</td>\n",
       "    </tr>\n",
       "    <tr>\n",
       "      <th>...</th>\n",
       "      <td>...</td>\n",
       "      <td>...</td>\n",
       "      <td>...</td>\n",
       "    </tr>\n",
       "    <tr>\n",
       "      <th>9059</th>\n",
       "      <td>17/08/21, 5:24 pm -</td>\n",
       "      <td>Nana</td>\n",
       "      <td>😀😀</td>\n",
       "    </tr>\n",
       "    <tr>\n",
       "      <th>9060</th>\n",
       "      <td>17/08/21, 6:20 pm -</td>\n",
       "      <td>Nisha Masi</td>\n",
       "      <td>😃😃</td>\n",
       "    </tr>\n",
       "    <tr>\n",
       "      <th>9061</th>\n",
       "      <td>17/08/21, 7:26 pm -</td>\n",
       "      <td>Nani</td>\n",
       "      <td>😃😂</td>\n",
       "    </tr>\n",
       "    <tr>\n",
       "      <th>9062</th>\n",
       "      <td>17/08/21, 10:11 pm -</td>\n",
       "      <td>Seema Masi</td>\n",
       "      <td>आज से *काबुली* चने का नाम तालिबानी चना होगा  😁😁</td>\n",
       "    </tr>\n",
       "    <tr>\n",
       "      <th>9063</th>\n",
       "      <td>17/08/21, 11:11 pm -</td>\n",
       "      <td>Mumma</td>\n",
       "      <td>😥</td>\n",
       "    </tr>\n",
       "  </tbody>\n",
       "</table>\n",
       "<p>9058 rows × 3 columns</p>\n",
       "</div>"
      ],
      "text/plain": [
       "                  date_time          user  \\\n",
       "4      20/07/20, 8:22 pm -     Seema Masi   \n",
       "5      20/07/20, 8:50 pm -   Shanu Bhaiya   \n",
       "6      20/07/20, 9:23 pm -           Papa   \n",
       "7      20/07/20, 9:24 pm -   Shanu Bhaiya   \n",
       "8      20/07/20, 9:24 pm -   Shanu Bhaiya   \n",
       "...                     ...           ...   \n",
       "9059   17/08/21, 5:24 pm -           Nana   \n",
       "9060   17/08/21, 6:20 pm -     Nisha Masi   \n",
       "9061   17/08/21, 7:26 pm -           Nani   \n",
       "9062  17/08/21, 10:11 pm -     Seema Masi   \n",
       "9063  17/08/21, 11:11 pm -          Mumma   \n",
       "\n",
       "                                                message  \n",
       "4                                      <Media omitted>   \n",
       "5                             This message was deleted   \n",
       "6                             This message was deleted   \n",
       "7     Itna support karne ke baad democracy mein itna...  \n",
       "8                                                    🤔   \n",
       "...                                                 ...  \n",
       "9059                                                😀😀   \n",
       "9060                                                😃😃   \n",
       "9061                                                😃😂   \n",
       "9062   आज से *काबुली* चने का नाम तालिबानी चना होगा  😁😁   \n",
       "9063                                                 😥   \n",
       "\n",
       "[9058 rows x 3 columns]"
      ]
     },
     "execution_count": 8,
     "metadata": {},
     "output_type": "execute_result"
    }
   ],
   "source": [
    "df"
   ]
  },
  {
   "cell_type": "code",
   "execution_count": 9,
   "id": "24fbae11",
   "metadata": {},
   "outputs": [
    {
     "data": {
      "text/plain": [
       "date_time    object\n",
       "user         object\n",
       "message      object\n",
       "dtype: object"
      ]
     },
     "execution_count": 9,
     "metadata": {},
     "output_type": "execute_result"
    }
   ],
   "source": [
    "df.dtypes"
   ]
  },
  {
   "cell_type": "code",
   "execution_count": 10,
   "id": "cdaffef5",
   "metadata": {},
   "outputs": [
    {
     "data": {
      "text/plain": [
       "date_time    0\n",
       "user         0\n",
       "message      0\n",
       "dtype: int64"
      ]
     },
     "execution_count": 10,
     "metadata": {},
     "output_type": "execute_result"
    }
   ],
   "source": [
    "df.isnull().sum()"
   ]
  },
  {
   "cell_type": "code",
   "execution_count": 11,
   "id": "2bc4338a",
   "metadata": {},
   "outputs": [],
   "source": [
    "df['date_time'] = df['date_time'].str.replace(',', '')"
   ]
  },
  {
   "cell_type": "code",
   "execution_count": 12,
   "id": "e0b2d4b2",
   "metadata": {},
   "outputs": [],
   "source": [
    "df['date_time'] = df['date_time'].str.replace('-', '')"
   ]
  },
  {
   "cell_type": "code",
   "execution_count": 13,
   "id": "0a6f94d3",
   "metadata": {},
   "outputs": [
    {
     "data": {
      "text/html": [
       "<div>\n",
       "<style scoped>\n",
       "    .dataframe tbody tr th:only-of-type {\n",
       "        vertical-align: middle;\n",
       "    }\n",
       "\n",
       "    .dataframe tbody tr th {\n",
       "        vertical-align: top;\n",
       "    }\n",
       "\n",
       "    .dataframe thead th {\n",
       "        text-align: right;\n",
       "    }\n",
       "</style>\n",
       "<table border=\"1\" class=\"dataframe\">\n",
       "  <thead>\n",
       "    <tr style=\"text-align: right;\">\n",
       "      <th></th>\n",
       "      <th>date_time</th>\n",
       "      <th>user</th>\n",
       "      <th>message</th>\n",
       "    </tr>\n",
       "  </thead>\n",
       "  <tbody>\n",
       "    <tr>\n",
       "      <th>4</th>\n",
       "      <td>20/07/20 8:22 pm</td>\n",
       "      <td>Seema Masi</td>\n",
       "      <td>&lt;Media omitted&gt;</td>\n",
       "    </tr>\n",
       "    <tr>\n",
       "      <th>5</th>\n",
       "      <td>20/07/20 8:50 pm</td>\n",
       "      <td>Shanu Bhaiya</td>\n",
       "      <td>This message was deleted</td>\n",
       "    </tr>\n",
       "    <tr>\n",
       "      <th>6</th>\n",
       "      <td>20/07/20 9:23 pm</td>\n",
       "      <td>Papa</td>\n",
       "      <td>This message was deleted</td>\n",
       "    </tr>\n",
       "    <tr>\n",
       "      <th>7</th>\n",
       "      <td>20/07/20 9:24 pm</td>\n",
       "      <td>Shanu Bhaiya</td>\n",
       "      <td>Itna support karne ke baad democracy mein itna...</td>\n",
       "    </tr>\n",
       "    <tr>\n",
       "      <th>8</th>\n",
       "      <td>20/07/20 9:24 pm</td>\n",
       "      <td>Shanu Bhaiya</td>\n",
       "      <td>🤔</td>\n",
       "    </tr>\n",
       "    <tr>\n",
       "      <th>...</th>\n",
       "      <td>...</td>\n",
       "      <td>...</td>\n",
       "      <td>...</td>\n",
       "    </tr>\n",
       "    <tr>\n",
       "      <th>9059</th>\n",
       "      <td>17/08/21 5:24 pm</td>\n",
       "      <td>Nana</td>\n",
       "      <td>😀😀</td>\n",
       "    </tr>\n",
       "    <tr>\n",
       "      <th>9060</th>\n",
       "      <td>17/08/21 6:20 pm</td>\n",
       "      <td>Nisha Masi</td>\n",
       "      <td>😃😃</td>\n",
       "    </tr>\n",
       "    <tr>\n",
       "      <th>9061</th>\n",
       "      <td>17/08/21 7:26 pm</td>\n",
       "      <td>Nani</td>\n",
       "      <td>😃😂</td>\n",
       "    </tr>\n",
       "    <tr>\n",
       "      <th>9062</th>\n",
       "      <td>17/08/21 10:11 pm</td>\n",
       "      <td>Seema Masi</td>\n",
       "      <td>आज से *काबुली* चने का नाम तालिबानी चना होगा  😁😁</td>\n",
       "    </tr>\n",
       "    <tr>\n",
       "      <th>9063</th>\n",
       "      <td>17/08/21 11:11 pm</td>\n",
       "      <td>Mumma</td>\n",
       "      <td>😥</td>\n",
       "    </tr>\n",
       "  </tbody>\n",
       "</table>\n",
       "<p>9058 rows × 3 columns</p>\n",
       "</div>"
      ],
      "text/plain": [
       "                date_time          user  \\\n",
       "4      20/07/20 8:22 pm      Seema Masi   \n",
       "5      20/07/20 8:50 pm    Shanu Bhaiya   \n",
       "6      20/07/20 9:23 pm            Papa   \n",
       "7      20/07/20 9:24 pm    Shanu Bhaiya   \n",
       "8      20/07/20 9:24 pm    Shanu Bhaiya   \n",
       "...                   ...           ...   \n",
       "9059   17/08/21 5:24 pm            Nana   \n",
       "9060   17/08/21 6:20 pm      Nisha Masi   \n",
       "9061   17/08/21 7:26 pm            Nani   \n",
       "9062  17/08/21 10:11 pm      Seema Masi   \n",
       "9063  17/08/21 11:11 pm           Mumma   \n",
       "\n",
       "                                                message  \n",
       "4                                      <Media omitted>   \n",
       "5                             This message was deleted   \n",
       "6                             This message was deleted   \n",
       "7     Itna support karne ke baad democracy mein itna...  \n",
       "8                                                    🤔   \n",
       "...                                                 ...  \n",
       "9059                                                😀😀   \n",
       "9060                                                😃😃   \n",
       "9061                                                😃😂   \n",
       "9062   आज से *काबुली* चने का नाम तालिबानी चना होगा  😁😁   \n",
       "9063                                                 😥   \n",
       "\n",
       "[9058 rows x 3 columns]"
      ]
     },
     "execution_count": 13,
     "metadata": {},
     "output_type": "execute_result"
    }
   ],
   "source": [
    "df"
   ]
  },
  {
   "cell_type": "code",
   "execution_count": 14,
   "id": "a09ed083",
   "metadata": {},
   "outputs": [],
   "source": [
    "df['date_time']=pd.to_datetime(df['date_time'], dayfirst=True)"
   ]
  },
  {
   "cell_type": "code",
   "execution_count": 15,
   "id": "c6481dc5",
   "metadata": {},
   "outputs": [],
   "source": [
    "df['date'] = pd.to_datetime(df['date_time']).dt.date"
   ]
  },
  {
   "cell_type": "code",
   "execution_count": 16,
   "id": "260d45e1",
   "metadata": {},
   "outputs": [
    {
     "data": {
      "text/html": [
       "<div>\n",
       "<style scoped>\n",
       "    .dataframe tbody tr th:only-of-type {\n",
       "        vertical-align: middle;\n",
       "    }\n",
       "\n",
       "    .dataframe tbody tr th {\n",
       "        vertical-align: top;\n",
       "    }\n",
       "\n",
       "    .dataframe thead th {\n",
       "        text-align: right;\n",
       "    }\n",
       "</style>\n",
       "<table border=\"1\" class=\"dataframe\">\n",
       "  <thead>\n",
       "    <tr style=\"text-align: right;\">\n",
       "      <th></th>\n",
       "      <th>date_time</th>\n",
       "      <th>user</th>\n",
       "      <th>message</th>\n",
       "      <th>date</th>\n",
       "    </tr>\n",
       "  </thead>\n",
       "  <tbody>\n",
       "    <tr>\n",
       "      <th>4</th>\n",
       "      <td>2020-07-20 20:22:00</td>\n",
       "      <td>Seema Masi</td>\n",
       "      <td>&lt;Media omitted&gt;</td>\n",
       "      <td>2020-07-20</td>\n",
       "    </tr>\n",
       "    <tr>\n",
       "      <th>5</th>\n",
       "      <td>2020-07-20 20:50:00</td>\n",
       "      <td>Shanu Bhaiya</td>\n",
       "      <td>This message was deleted</td>\n",
       "      <td>2020-07-20</td>\n",
       "    </tr>\n",
       "    <tr>\n",
       "      <th>6</th>\n",
       "      <td>2020-07-20 21:23:00</td>\n",
       "      <td>Papa</td>\n",
       "      <td>This message was deleted</td>\n",
       "      <td>2020-07-20</td>\n",
       "    </tr>\n",
       "    <tr>\n",
       "      <th>7</th>\n",
       "      <td>2020-07-20 21:24:00</td>\n",
       "      <td>Shanu Bhaiya</td>\n",
       "      <td>Itna support karne ke baad democracy mein itna...</td>\n",
       "      <td>2020-07-20</td>\n",
       "    </tr>\n",
       "    <tr>\n",
       "      <th>8</th>\n",
       "      <td>2020-07-20 21:24:00</td>\n",
       "      <td>Shanu Bhaiya</td>\n",
       "      <td>🤔</td>\n",
       "      <td>2020-07-20</td>\n",
       "    </tr>\n",
       "    <tr>\n",
       "      <th>...</th>\n",
       "      <td>...</td>\n",
       "      <td>...</td>\n",
       "      <td>...</td>\n",
       "      <td>...</td>\n",
       "    </tr>\n",
       "    <tr>\n",
       "      <th>9059</th>\n",
       "      <td>2021-08-17 17:24:00</td>\n",
       "      <td>Nana</td>\n",
       "      <td>😀😀</td>\n",
       "      <td>2021-08-17</td>\n",
       "    </tr>\n",
       "    <tr>\n",
       "      <th>9060</th>\n",
       "      <td>2021-08-17 18:20:00</td>\n",
       "      <td>Nisha Masi</td>\n",
       "      <td>😃😃</td>\n",
       "      <td>2021-08-17</td>\n",
       "    </tr>\n",
       "    <tr>\n",
       "      <th>9061</th>\n",
       "      <td>2021-08-17 19:26:00</td>\n",
       "      <td>Nani</td>\n",
       "      <td>😃😂</td>\n",
       "      <td>2021-08-17</td>\n",
       "    </tr>\n",
       "    <tr>\n",
       "      <th>9062</th>\n",
       "      <td>2021-08-17 22:11:00</td>\n",
       "      <td>Seema Masi</td>\n",
       "      <td>आज से *काबुली* चने का नाम तालिबानी चना होगा  😁😁</td>\n",
       "      <td>2021-08-17</td>\n",
       "    </tr>\n",
       "    <tr>\n",
       "      <th>9063</th>\n",
       "      <td>2021-08-17 23:11:00</td>\n",
       "      <td>Mumma</td>\n",
       "      <td>😥</td>\n",
       "      <td>2021-08-17</td>\n",
       "    </tr>\n",
       "  </tbody>\n",
       "</table>\n",
       "<p>9058 rows × 4 columns</p>\n",
       "</div>"
      ],
      "text/plain": [
       "               date_time          user  \\\n",
       "4    2020-07-20 20:22:00    Seema Masi   \n",
       "5    2020-07-20 20:50:00  Shanu Bhaiya   \n",
       "6    2020-07-20 21:23:00          Papa   \n",
       "7    2020-07-20 21:24:00  Shanu Bhaiya   \n",
       "8    2020-07-20 21:24:00  Shanu Bhaiya   \n",
       "...                  ...           ...   \n",
       "9059 2021-08-17 17:24:00          Nana   \n",
       "9060 2021-08-17 18:20:00    Nisha Masi   \n",
       "9061 2021-08-17 19:26:00          Nani   \n",
       "9062 2021-08-17 22:11:00    Seema Masi   \n",
       "9063 2021-08-17 23:11:00         Mumma   \n",
       "\n",
       "                                                message        date  \n",
       "4                                      <Media omitted>   2020-07-20  \n",
       "5                             This message was deleted   2020-07-20  \n",
       "6                             This message was deleted   2020-07-20  \n",
       "7     Itna support karne ke baad democracy mein itna...  2020-07-20  \n",
       "8                                                    🤔   2020-07-20  \n",
       "...                                                 ...         ...  \n",
       "9059                                                😀😀   2021-08-17  \n",
       "9060                                                😃😃   2021-08-17  \n",
       "9061                                                😃😂   2021-08-17  \n",
       "9062   आज से *काबुली* चने का नाम तालिबानी चना होगा  😁😁   2021-08-17  \n",
       "9063                                                 😥   2021-08-17  \n",
       "\n",
       "[9058 rows x 4 columns]"
      ]
     },
     "execution_count": 16,
     "metadata": {},
     "output_type": "execute_result"
    }
   ],
   "source": [
    "df"
   ]
  },
  {
   "cell_type": "code",
   "execution_count": 17,
   "id": "efdad1e7",
   "metadata": {},
   "outputs": [
    {
     "data": {
      "text/plain": [
       "date_time    datetime64[ns]\n",
       "user                 object\n",
       "message              object\n",
       "date                 object\n",
       "dtype: object"
      ]
     },
     "execution_count": 17,
     "metadata": {},
     "output_type": "execute_result"
    }
   ],
   "source": [
    "df.dtypes"
   ]
  },
  {
   "cell_type": "code",
   "execution_count": 18,
   "id": "9ad79044",
   "metadata": {},
   "outputs": [
    {
     "data": {
      "text/html": [
       "<div>\n",
       "<style scoped>\n",
       "    .dataframe tbody tr th:only-of-type {\n",
       "        vertical-align: middle;\n",
       "    }\n",
       "\n",
       "    .dataframe tbody tr th {\n",
       "        vertical-align: top;\n",
       "    }\n",
       "\n",
       "    .dataframe thead th {\n",
       "        text-align: right;\n",
       "    }\n",
       "</style>\n",
       "<table border=\"1\" class=\"dataframe\">\n",
       "  <thead>\n",
       "    <tr style=\"text-align: right;\">\n",
       "      <th></th>\n",
       "      <th>date_time</th>\n",
       "      <th>user</th>\n",
       "      <th>message</th>\n",
       "      <th>date</th>\n",
       "    </tr>\n",
       "  </thead>\n",
       "  <tbody>\n",
       "    <tr>\n",
       "      <th>4</th>\n",
       "      <td>2020-07-20 20:22:00</td>\n",
       "      <td>Seema Masi</td>\n",
       "      <td>&lt;Media omitted&gt;</td>\n",
       "      <td>2020-07-20</td>\n",
       "    </tr>\n",
       "    <tr>\n",
       "      <th>5</th>\n",
       "      <td>2020-07-20 20:50:00</td>\n",
       "      <td>Shanu Bhaiya</td>\n",
       "      <td>This message was deleted</td>\n",
       "      <td>2020-07-20</td>\n",
       "    </tr>\n",
       "  </tbody>\n",
       "</table>\n",
       "</div>"
      ],
      "text/plain": [
       "            date_time          user                    message        date\n",
       "4 2020-07-20 20:22:00    Seema Masi           <Media omitted>   2020-07-20\n",
       "5 2020-07-20 20:50:00  Shanu Bhaiya  This message was deleted   2020-07-20"
      ]
     },
     "execution_count": 18,
     "metadata": {},
     "output_type": "execute_result"
    }
   ],
   "source": [
    "df.head(2)"
   ]
  },
  {
   "cell_type": "code",
   "execution_count": 19,
   "id": "42e3e96c",
   "metadata": {},
   "outputs": [],
   "source": [
    "df['Year'] = df['date_time'].dt.year\n",
    "df['Day'] = df['date_time'].dt.day\n",
    "df['Month'] = df['date_time'].dt.month\n",
    "df['Time']=df['date_time'].dt.time\n",
    "df['Weekday']=df['date_time'].dt.day_name()\n",
    "df['Month Name']=df['date_time'].dt.month_name()"
   ]
  },
  {
   "cell_type": "code",
   "execution_count": 20,
   "id": "2e846f03",
   "metadata": {},
   "outputs": [],
   "source": [
    "def hr_func(ts):\n",
    "    return ts.hour\n",
    "df['hour'] = df['Time'].apply(hr_func)"
   ]
  },
  {
   "cell_type": "code",
   "execution_count": 21,
   "id": "ea9743c9",
   "metadata": {},
   "outputs": [
    {
     "data": {
      "text/html": [
       "<div>\n",
       "<style scoped>\n",
       "    .dataframe tbody tr th:only-of-type {\n",
       "        vertical-align: middle;\n",
       "    }\n",
       "\n",
       "    .dataframe tbody tr th {\n",
       "        vertical-align: top;\n",
       "    }\n",
       "\n",
       "    .dataframe thead th {\n",
       "        text-align: right;\n",
       "    }\n",
       "</style>\n",
       "<table border=\"1\" class=\"dataframe\">\n",
       "  <thead>\n",
       "    <tr style=\"text-align: right;\">\n",
       "      <th></th>\n",
       "      <th>date_time</th>\n",
       "      <th>user</th>\n",
       "      <th>message</th>\n",
       "      <th>date</th>\n",
       "      <th>Year</th>\n",
       "      <th>Day</th>\n",
       "      <th>Month</th>\n",
       "      <th>Time</th>\n",
       "      <th>Weekday</th>\n",
       "      <th>Month Name</th>\n",
       "      <th>hour</th>\n",
       "    </tr>\n",
       "  </thead>\n",
       "  <tbody>\n",
       "    <tr>\n",
       "      <th>4</th>\n",
       "      <td>2020-07-20 20:22:00</td>\n",
       "      <td>Seema Masi</td>\n",
       "      <td>&lt;Media omitted&gt;</td>\n",
       "      <td>2020-07-20</td>\n",
       "      <td>2020</td>\n",
       "      <td>20</td>\n",
       "      <td>7</td>\n",
       "      <td>20:22:00</td>\n",
       "      <td>Monday</td>\n",
       "      <td>July</td>\n",
       "      <td>20</td>\n",
       "    </tr>\n",
       "    <tr>\n",
       "      <th>5</th>\n",
       "      <td>2020-07-20 20:50:00</td>\n",
       "      <td>Shanu Bhaiya</td>\n",
       "      <td>This message was deleted</td>\n",
       "      <td>2020-07-20</td>\n",
       "      <td>2020</td>\n",
       "      <td>20</td>\n",
       "      <td>7</td>\n",
       "      <td>20:50:00</td>\n",
       "      <td>Monday</td>\n",
       "      <td>July</td>\n",
       "      <td>20</td>\n",
       "    </tr>\n",
       "  </tbody>\n",
       "</table>\n",
       "</div>"
      ],
      "text/plain": [
       "            date_time          user                    message        date  \\\n",
       "4 2020-07-20 20:22:00    Seema Masi           <Media omitted>   2020-07-20   \n",
       "5 2020-07-20 20:50:00  Shanu Bhaiya  This message was deleted   2020-07-20   \n",
       "\n",
       "   Year  Day  Month      Time Weekday Month Name  hour  \n",
       "4  2020   20      7  20:22:00  Monday       July    20  \n",
       "5  2020   20      7  20:50:00  Monday       July    20  "
      ]
     },
     "execution_count": 21,
     "metadata": {},
     "output_type": "execute_result"
    }
   ],
   "source": [
    "df.head(2)"
   ]
  },
  {
   "cell_type": "code",
   "execution_count": 22,
   "id": "85885137",
   "metadata": {},
   "outputs": [],
   "source": [
    "def hr_func(ts):\n",
    "    return ts.hour\n",
    "df['hour'] = df['Time'].apply(hr_func)"
   ]
  },
  {
   "cell_type": "code",
   "execution_count": 23,
   "id": "cd0b3af1",
   "metadata": {},
   "outputs": [
    {
     "data": {
      "text/html": [
       "<div>\n",
       "<style scoped>\n",
       "    .dataframe tbody tr th:only-of-type {\n",
       "        vertical-align: middle;\n",
       "    }\n",
       "\n",
       "    .dataframe tbody tr th {\n",
       "        vertical-align: top;\n",
       "    }\n",
       "\n",
       "    .dataframe thead th {\n",
       "        text-align: right;\n",
       "    }\n",
       "</style>\n",
       "<table border=\"1\" class=\"dataframe\">\n",
       "  <thead>\n",
       "    <tr style=\"text-align: right;\">\n",
       "      <th></th>\n",
       "      <th>date_time</th>\n",
       "      <th>user</th>\n",
       "      <th>message</th>\n",
       "      <th>date</th>\n",
       "      <th>Year</th>\n",
       "      <th>Day</th>\n",
       "      <th>Month</th>\n",
       "      <th>Time</th>\n",
       "      <th>Weekday</th>\n",
       "      <th>Month Name</th>\n",
       "      <th>hour</th>\n",
       "    </tr>\n",
       "  </thead>\n",
       "  <tbody>\n",
       "    <tr>\n",
       "      <th>4</th>\n",
       "      <td>2020-07-20 20:22:00</td>\n",
       "      <td>Seema Masi</td>\n",
       "      <td>&lt;Media omitted&gt;</td>\n",
       "      <td>2020-07-20</td>\n",
       "      <td>2020</td>\n",
       "      <td>20</td>\n",
       "      <td>7</td>\n",
       "      <td>20:22:00</td>\n",
       "      <td>Monday</td>\n",
       "      <td>July</td>\n",
       "      <td>20</td>\n",
       "    </tr>\n",
       "    <tr>\n",
       "      <th>5</th>\n",
       "      <td>2020-07-20 20:50:00</td>\n",
       "      <td>Shanu Bhaiya</td>\n",
       "      <td>This message was deleted</td>\n",
       "      <td>2020-07-20</td>\n",
       "      <td>2020</td>\n",
       "      <td>20</td>\n",
       "      <td>7</td>\n",
       "      <td>20:50:00</td>\n",
       "      <td>Monday</td>\n",
       "      <td>July</td>\n",
       "      <td>20</td>\n",
       "    </tr>\n",
       "  </tbody>\n",
       "</table>\n",
       "</div>"
      ],
      "text/plain": [
       "            date_time          user                    message        date  \\\n",
       "4 2020-07-20 20:22:00    Seema Masi           <Media omitted>   2020-07-20   \n",
       "5 2020-07-20 20:50:00  Shanu Bhaiya  This message was deleted   2020-07-20   \n",
       "\n",
       "   Year  Day  Month      Time Weekday Month Name  hour  \n",
       "4  2020   20      7  20:22:00  Monday       July    20  \n",
       "5  2020   20      7  20:50:00  Monday       July    20  "
      ]
     },
     "execution_count": 23,
     "metadata": {},
     "output_type": "execute_result"
    }
   ],
   "source": [
    "df.head(2)"
   ]
  },
  {
   "cell_type": "markdown",
   "id": "5cd8e309",
   "metadata": {},
   "source": [
    "## 1. Most Talkative User"
   ]
  },
  {
   "cell_type": "code",
   "execution_count": 24,
   "id": "8d26b5cc",
   "metadata": {},
   "outputs": [
    {
     "data": {
      "text/plain": [
       "<AxesSubplot:title={'center':'Data on User Activity'}, xlabel='Message frequency', ylabel='user'>"
      ]
     },
     "execution_count": 24,
     "metadata": {},
     "output_type": "execute_result"
    },
    {
     "data": {
      "image/png": "[encoded data removed]",
      "text/plain": [
       "<Figure size 800x600 with 1 Axes>"
      ]
     },
     "metadata": {
      "needs_background": "light"
     },
     "output_type": "display_data"
    }
   ],
   "source": [
    "from matplotlib.pyplot import figure\n",
    "figure(figsize=(8, 6), dpi=100)\n",
    "plt.xlabel(\"Message frequency\")\n",
    "plt.title(\"Data on User Activity\")\n",
    "df.groupby(\"user\")[\"message\"].count().sort_values().tail(20).plot(kind=\"barh\")\n"
   ]
  },
  {
   "cell_type": "code",
   "execution_count": 25,
   "id": "40d9c722",
   "metadata": {},
   "outputs": [
    {
     "data": {
      "text/plain": [
       "Shanu Bhaiya      1884\n",
       "Mumma             1754\n",
       "Sunil Uncle       1312\n",
       "Nisha Masi        1168\n",
       "Papa               803\n",
       "Seema Masi         779\n",
       "Nani               477\n",
       "Shreya Didi        334\n",
       "Nana               302\n",
       "Prashant Uncle     149\n",
       "Sony Masi           39\n",
       "Sana                38\n",
       "Roshni              19\n",
       "Name: user, dtype: int64"
      ]
     },
     "execution_count": 25,
     "metadata": {},
     "output_type": "execute_result"
    }
   ],
   "source": [
    "df[\"user\"].value_counts()"
   ]
  },
  {
   "cell_type": "markdown",
   "id": "068baeb5",
   "metadata": {},
   "source": [
    "## 2. Activity & Overall Frequency of Messages"
   ]
  },
  {
   "cell_type": "code",
   "execution_count": 26,
   "id": "54309a80",
   "metadata": {},
   "outputs": [
    {
     "data": {
      "text/html": [
       "<div>\n",
       "<style scoped>\n",
       "    .dataframe tbody tr th:only-of-type {\n",
       "        vertical-align: middle;\n",
       "    }\n",
       "\n",
       "    .dataframe tbody tr th {\n",
       "        vertical-align: top;\n",
       "    }\n",
       "\n",
       "    .dataframe thead th {\n",
       "        text-align: right;\n",
       "    }\n",
       "</style>\n",
       "<table border=\"1\" class=\"dataframe\">\n",
       "  <thead>\n",
       "    <tr style=\"text-align: right;\">\n",
       "      <th></th>\n",
       "      <th>date_time</th>\n",
       "      <th>user</th>\n",
       "      <th>message</th>\n",
       "      <th>date</th>\n",
       "      <th>Year</th>\n",
       "      <th>Day</th>\n",
       "      <th>Month</th>\n",
       "      <th>Time</th>\n",
       "      <th>Weekday</th>\n",
       "      <th>Month Name</th>\n",
       "      <th>hour</th>\n",
       "    </tr>\n",
       "  </thead>\n",
       "  <tbody>\n",
       "    <tr>\n",
       "      <th>4</th>\n",
       "      <td>2020-07-20 20:22:00</td>\n",
       "      <td>Seema Masi</td>\n",
       "      <td>&lt;Media omitted&gt;</td>\n",
       "      <td>2020-07-20</td>\n",
       "      <td>2020</td>\n",
       "      <td>20</td>\n",
       "      <td>7</td>\n",
       "      <td>20:22:00</td>\n",
       "      <td>Monday</td>\n",
       "      <td>July</td>\n",
       "      <td>20</td>\n",
       "    </tr>\n",
       "    <tr>\n",
       "      <th>5</th>\n",
       "      <td>2020-07-20 20:50:00</td>\n",
       "      <td>Shanu Bhaiya</td>\n",
       "      <td>This message was deleted</td>\n",
       "      <td>2020-07-20</td>\n",
       "      <td>2020</td>\n",
       "      <td>20</td>\n",
       "      <td>7</td>\n",
       "      <td>20:50:00</td>\n",
       "      <td>Monday</td>\n",
       "      <td>July</td>\n",
       "      <td>20</td>\n",
       "    </tr>\n",
       "  </tbody>\n",
       "</table>\n",
       "</div>"
      ],
      "text/plain": [
       "            date_time          user                    message        date  \\\n",
       "4 2020-07-20 20:22:00    Seema Masi           <Media omitted>   2020-07-20   \n",
       "5 2020-07-20 20:50:00  Shanu Bhaiya  This message was deleted   2020-07-20   \n",
       "\n",
       "   Year  Day  Month      Time Weekday Month Name  hour  \n",
       "4  2020   20      7  20:22:00  Monday       July    20  \n",
       "5  2020   20      7  20:50:00  Monday       July    20  "
      ]
     },
     "execution_count": 26,
     "metadata": {},
     "output_type": "execute_result"
    }
   ],
   "source": [
    "df.head(2)"
   ]
  },
  {
   "cell_type": "code",
   "execution_count": 27,
   "id": "9788635d",
   "metadata": {},
   "outputs": [
    {
     "data": {
      "text/plain": [
       "<AxesSubplot:ylabel='hour'>"
      ]
     },
     "execution_count": 27,
     "metadata": {},
     "output_type": "execute_result"
    },
    {
     "data": {
      "image/png": "[encoded data removed]",
      "text/plain": [
       "<Figure size 432x288 with 1 Axes>"
      ]
     },
     "metadata": {
      "needs_background": "light"
     },
     "output_type": "display_data"
    }
   ],
   "source": [
    "df[df['user']==\"Papa\"].groupby(['hour']).size().sort_index().plot(x=\"hour\", kind='barh', color=\"#fde336\")"
   ]
  },
  {
   "cell_type": "code",
   "execution_count": 28,
   "id": "1fc44675",
   "metadata": {},
   "outputs": [
    {
     "data": {
      "text/plain": [
       "<AxesSubplot:ylabel='hour'>"
      ]
     },
     "execution_count": 28,
     "metadata": {},
     "output_type": "execute_result"
    },
    {
     "data": {
      "image/png": "[encoded data removed]",
      "text/plain": [
       "<Figure size 432x288 with 1 Axes>"
      ]
     },
     "metadata": {
      "needs_background": "light"
     },
     "output_type": "display_data"
    }
   ],
   "source": [
    "df[df['user']==\"Mumma\"].groupby(['hour']).size().sort_index().plot(x=\"hour\", kind='barh', color=\"#E30B5C\")"
   ]
  },
  {
   "cell_type": "code",
   "execution_count": 29,
   "id": "76bbcfc8",
   "metadata": {},
   "outputs": [
    {
     "data": {
      "text/plain": [
       "<AxesSubplot:ylabel='hour'>"
      ]
     },
     "execution_count": 29,
     "metadata": {},
     "output_type": "execute_result"
    },
    {
     "data": {
      "image/png": "[encoded data removed]",
      "text/plain": [
       "<Figure size 432x288 with 1 Axes>"
      ]
     },
     "metadata": {
      "needs_background": "light"
     },
     "output_type": "display_data"
    }
   ],
   "source": [
    "df[df['user']==\"Nisha Masi\"].groupby(['hour']).size().sort_index().plot(x=\"hour\", kind='barh')"
   ]
  },
  {
   "cell_type": "markdown",
   "id": "0d598362",
   "metadata": {},
   "source": [
    "## Is the activity the same on weekdays and weekends? "
   ]
  },
  {
   "cell_type": "code",
   "execution_count": 30,
   "id": "d9a89ec2",
   "metadata": {},
   "outputs": [],
   "source": [
    "df['is_weekend'] = df.Weekday.isin(['Sunday', 'Saturday'])"
   ]
  },
  {
   "cell_type": "code",
   "execution_count": 31,
   "id": "f30bcad6",
   "metadata": {},
   "outputs": [
    {
     "data": {
      "text/plain": [
       "Shanu Bhaiya      1884\n",
       "Mumma             1754\n",
       "Sunil Uncle       1312\n",
       "Nisha Masi        1168\n",
       "Papa               803\n",
       "Seema Masi         779\n",
       "Nani               477\n",
       "Shreya Didi        334\n",
       "Nana               302\n",
       "Prashant Uncle     149\n",
       "Sony Masi           39\n",
       "Sana                38\n",
       "Roshni              19\n",
       "Name: user, dtype: int64"
      ]
     },
     "execution_count": 31,
     "metadata": {},
     "output_type": "execute_result"
    }
   ],
   "source": [
    "msgs_per_user = df['user'].value_counts(sort=True)\n",
    "msgs_per_user"
   ]
  },
  {
   "cell_type": "code",
   "execution_count": 32,
   "id": "4ec8f012",
   "metadata": {},
   "outputs": [
    {
     "data": {
      "text/plain": [
       "<AxesSubplot:xlabel='user', ylabel='count'>"
      ]
     },
     "execution_count": 32,
     "metadata": {},
     "output_type": "execute_result"
    },
    {
     "data": {
      "image/png": "[encoded data removed]",
      "text/plain": [
       "<Figure size 2160x720 with 1 Axes>"
      ]
     },
     "metadata": {
      "needs_background": "light"
     },
     "output_type": "display_data"
    }
   ],
   "source": [
    "plt.figure(figsize=(30,10))\n",
    "sns.countplot(x=\"user\", hue=\"Weekday\", data=df, palette=\"mako\")"
   ]
  },
  {
   "cell_type": "code",
   "execution_count": 33,
   "id": "e0fcbe0f",
   "metadata": {},
   "outputs": [],
   "source": [
    "df.drop(df.index[df['user'] == 'group_notification'], inplace = True)"
   ]
  },
  {
   "cell_type": "code",
   "execution_count": 34,
   "id": "d014005f",
   "metadata": {},
   "outputs": [
    {
     "data": {
      "text/html": [
       "<div>\n",
       "<style scoped>\n",
       "    .dataframe tbody tr th:only-of-type {\n",
       "        vertical-align: middle;\n",
       "    }\n",
       "\n",
       "    .dataframe tbody tr th {\n",
       "        vertical-align: top;\n",
       "    }\n",
       "\n",
       "    .dataframe thead th {\n",
       "        text-align: right;\n",
       "    }\n",
       "</style>\n",
       "<table border=\"1\" class=\"dataframe\">\n",
       "  <thead>\n",
       "    <tr style=\"text-align: right;\">\n",
       "      <th></th>\n",
       "      <th>date_time</th>\n",
       "      <th>user</th>\n",
       "      <th>message</th>\n",
       "      <th>date</th>\n",
       "      <th>Year</th>\n",
       "      <th>Day</th>\n",
       "      <th>Month</th>\n",
       "      <th>Time</th>\n",
       "      <th>Weekday</th>\n",
       "      <th>Month Name</th>\n",
       "      <th>hour</th>\n",
       "      <th>is_weekend</th>\n",
       "    </tr>\n",
       "  </thead>\n",
       "  <tbody>\n",
       "    <tr>\n",
       "      <th>4</th>\n",
       "      <td>2020-07-20 20:22:00</td>\n",
       "      <td>Seema Masi</td>\n",
       "      <td>&lt;Media omitted&gt;</td>\n",
       "      <td>2020-07-20</td>\n",
       "      <td>2020</td>\n",
       "      <td>20</td>\n",
       "      <td>7</td>\n",
       "      <td>20:22:00</td>\n",
       "      <td>Monday</td>\n",
       "      <td>July</td>\n",
       "      <td>20</td>\n",
       "      <td>False</td>\n",
       "    </tr>\n",
       "    <tr>\n",
       "      <th>5</th>\n",
       "      <td>2020-07-20 20:50:00</td>\n",
       "      <td>Shanu Bhaiya</td>\n",
       "      <td>This message was deleted</td>\n",
       "      <td>2020-07-20</td>\n",
       "      <td>2020</td>\n",
       "      <td>20</td>\n",
       "      <td>7</td>\n",
       "      <td>20:50:00</td>\n",
       "      <td>Monday</td>\n",
       "      <td>July</td>\n",
       "      <td>20</td>\n",
       "      <td>False</td>\n",
       "    </tr>\n",
       "  </tbody>\n",
       "</table>\n",
       "</div>"
      ],
      "text/plain": [
       "            date_time          user                    message        date  \\\n",
       "4 2020-07-20 20:22:00    Seema Masi           <Media omitted>   2020-07-20   \n",
       "5 2020-07-20 20:50:00  Shanu Bhaiya  This message was deleted   2020-07-20   \n",
       "\n",
       "   Year  Day  Month      Time Weekday Month Name  hour  is_weekend  \n",
       "4  2020   20      7  20:22:00  Monday       July    20       False  \n",
       "5  2020   20      7  20:50:00  Monday       July    20       False  "
      ]
     },
     "execution_count": 34,
     "metadata": {},
     "output_type": "execute_result"
    }
   ],
   "source": [
    "df.head(2)"
   ]
  },
  {
   "cell_type": "code",
   "execution_count": 35,
   "id": "9ed95485",
   "metadata": {},
   "outputs": [
    {
     "data": {
      "text/plain": [
       "<AxesSubplot:xlabel='user', ylabel='count'>"
      ]
     },
     "execution_count": 35,
     "metadata": {},
     "output_type": "execute_result"
    },
    {
     "data": {
      "image/png": "[encoded data removed]",
      "text/plain": [
       "<Figure size 720x360 with 1 Axes>"
      ]
     },
     "metadata": {
      "needs_background": "light"
     },
     "output_type": "display_data"
    }
   ],
   "source": [
    "plt.figure(figsize=(10,5))\n",
    "sns.countplot(x=\"user\", hue=\"is_weekend\", data=df, palette=['#FF5050',\"#9c1e37\"])"
   ]
  },
  {
   "cell_type": "code",
   "execution_count": 36,
   "id": "bbdbbe27",
   "metadata": {},
   "outputs": [],
   "source": [
    "def word_count(val):\n",
    "    return len(val.split())"
   ]
  },
  {
   "cell_type": "code",
   "execution_count": 37,
   "id": "b474b9fa",
   "metadata": {},
   "outputs": [],
   "source": [
    "df['no_of_words'] = df['message'].apply(word_count)"
   ]
  },
  {
   "cell_type": "code",
   "execution_count": 38,
   "id": "57c72f9e",
   "metadata": {},
   "outputs": [
    {
     "data": {
      "text/html": [
       "<div>\n",
       "<style scoped>\n",
       "    .dataframe tbody tr th:only-of-type {\n",
       "        vertical-align: middle;\n",
       "    }\n",
       "\n",
       "    .dataframe tbody tr th {\n",
       "        vertical-align: top;\n",
       "    }\n",
       "\n",
       "    .dataframe thead th {\n",
       "        text-align: right;\n",
       "    }\n",
       "</style>\n",
       "<table border=\"1\" class=\"dataframe\">\n",
       "  <thead>\n",
       "    <tr style=\"text-align: right;\">\n",
       "      <th></th>\n",
       "      <th>date_time</th>\n",
       "      <th>user</th>\n",
       "      <th>message</th>\n",
       "      <th>date</th>\n",
       "      <th>Year</th>\n",
       "      <th>Day</th>\n",
       "      <th>Month</th>\n",
       "      <th>Time</th>\n",
       "      <th>Weekday</th>\n",
       "      <th>Month Name</th>\n",
       "      <th>hour</th>\n",
       "      <th>is_weekend</th>\n",
       "      <th>no_of_words</th>\n",
       "    </tr>\n",
       "  </thead>\n",
       "  <tbody>\n",
       "    <tr>\n",
       "      <th>9062</th>\n",
       "      <td>2021-08-17 22:11:00</td>\n",
       "      <td>Seema Masi</td>\n",
       "      <td>आज से *काबुली* चने का नाम तालिबानी चना होगा  😁😁</td>\n",
       "      <td>2021-08-17</td>\n",
       "      <td>2021</td>\n",
       "      <td>17</td>\n",
       "      <td>8</td>\n",
       "      <td>22:11:00</td>\n",
       "      <td>Tuesday</td>\n",
       "      <td>August</td>\n",
       "      <td>22</td>\n",
       "      <td>False</td>\n",
       "      <td>10</td>\n",
       "    </tr>\n",
       "    <tr>\n",
       "      <th>9063</th>\n",
       "      <td>2021-08-17 23:11:00</td>\n",
       "      <td>Mumma</td>\n",
       "      <td>😥</td>\n",
       "      <td>2021-08-17</td>\n",
       "      <td>2021</td>\n",
       "      <td>17</td>\n",
       "      <td>8</td>\n",
       "      <td>23:11:00</td>\n",
       "      <td>Tuesday</td>\n",
       "      <td>August</td>\n",
       "      <td>23</td>\n",
       "      <td>False</td>\n",
       "      <td>1</td>\n",
       "    </tr>\n",
       "  </tbody>\n",
       "</table>\n",
       "</div>"
      ],
      "text/plain": [
       "               date_time        user  \\\n",
       "9062 2021-08-17 22:11:00  Seema Masi   \n",
       "9063 2021-08-17 23:11:00       Mumma   \n",
       "\n",
       "                                               message        date  Year  Day  \\\n",
       "9062  आज से *काबुली* चने का नाम तालिबानी चना होगा  😁😁   2021-08-17  2021   17   \n",
       "9063                                                😥   2021-08-17  2021   17   \n",
       "\n",
       "      Month      Time  Weekday Month Name  hour  is_weekend  no_of_words  \n",
       "9062      8  22:11:00  Tuesday     August    22       False           10  \n",
       "9063      8  23:11:00  Tuesday     August    23       False            1  "
      ]
     },
     "execution_count": 38,
     "metadata": {},
     "output_type": "execute_result"
    }
   ],
   "source": [
    "df.tail(2)"
   ]
  },
  {
   "cell_type": "code",
   "execution_count": 39,
   "id": "734b9b67",
   "metadata": {},
   "outputs": [
    {
     "data": {
      "text/plain": [
       "58313"
      ]
     },
     "execution_count": 39,
     "metadata": {},
     "output_type": "execute_result"
    }
   ],
   "source": [
    "total_words_weekday = df[df['is_weekend']==False]['no_of_words'].sum()\n",
    "total_words_weekday"
   ]
  },
  {
   "cell_type": "code",
   "execution_count": 40,
   "id": "d780e827",
   "metadata": {},
   "outputs": [
    {
     "data": {
      "text/plain": [
       "11662.6"
      ]
     },
     "execution_count": 40,
     "metadata": {},
     "output_type": "execute_result"
    }
   ],
   "source": [
    "total_words_weekday/5"
   ]
  },
  {
   "cell_type": "code",
   "execution_count": 41,
   "id": "a913efa6",
   "metadata": {},
   "outputs": [
    {
     "data": {
      "text/plain": [
       "24000"
      ]
     },
     "execution_count": 41,
     "metadata": {},
     "output_type": "execute_result"
    }
   ],
   "source": [
    "total_words_weekend = df[df['is_weekend']]['no_of_words'].sum()\n",
    "total_words_weekend"
   ]
  },
  {
   "cell_type": "code",
   "execution_count": 42,
   "id": "3a2b95b6",
   "metadata": {},
   "outputs": [
    {
     "data": {
      "text/plain": [
       "4800.0"
      ]
     },
     "execution_count": 42,
     "metadata": {},
     "output_type": "execute_result"
    }
   ],
   "source": [
    "total_words_weekend/5"
   ]
  },
  {
   "cell_type": "code",
   "execution_count": 43,
   "id": "a6c2f33b",
   "metadata": {},
   "outputs": [
    {
     "data": {
      "text/plain": [
       "user\n",
       "Mumma             21639\n",
       "Sunil Uncle       15994\n",
       "Shanu Bhaiya      12961\n",
       "Papa              11139\n",
       "Seema Masi         5980\n",
       "Nisha Masi         5907\n",
       "Nani               3568\n",
       "Nana               2675\n",
       "Shreya Didi        1168\n",
       "Prashant Uncle      792\n",
       "Sony Masi           277\n",
       "Sana                173\n",
       "Roshni               40\n",
       "Name: no_of_words, dtype: int64"
      ]
     },
     "execution_count": 43,
     "metadata": {},
     "output_type": "execute_result"
    }
   ],
   "source": [
    "df.groupby('user')['no_of_words'].sum().sort_values(ascending=False)"
   ]
  },
  {
   "cell_type": "code",
   "execution_count": 44,
   "id": "fa0ee71a",
   "metadata": {
    "scrolled": true
   },
   "outputs": [
    {
     "data": {
      "text/plain": [
       "user            is_weekend\n",
       "Mumma           False         13.450845\n",
       "                True           9.128319\n",
       "Nana            False          9.019900\n",
       "                True           8.534653\n",
       "Nani            False          8.322946\n",
       "                True           5.080645\n",
       "Nisha Masi      False          4.617647\n",
       "                True           6.672000\n",
       "Papa            False         13.649087\n",
       "                True          14.225806\n",
       "Prashant Uncle  False          5.207317\n",
       "                True           5.447761\n",
       "Roshni          False          2.416667\n",
       "                True           1.571429\n",
       "Sana            False          4.592593\n",
       "                True           4.454545\n",
       "Seema Masi      False          8.367003\n",
       "                True           5.459459\n",
       "Shanu Bhaiya    False          6.388192\n",
       "                True           8.137996\n",
       "Shreya Didi     False          3.417021\n",
       "                True           3.686869\n",
       "Sony Masi       False          6.758621\n",
       "                True           8.100000\n",
       "Sunil Uncle     False         13.168000\n",
       "                True          10.886121\n",
       "dtype: float64"
      ]
     },
     "execution_count": 44,
     "metadata": {},
     "output_type": "execute_result"
    }
   ],
   "source": [
    "wordPerMsg_weekday_vs_weekend = (df.groupby(['user', 'is_weekend'])['no_of_words'].sum()/df.groupby(['user', 'is_weekend']).size())\n",
    "wordPerMsg_weekday_vs_weekend"
   ]
  },
  {
   "cell_type": "code",
   "execution_count": 45,
   "id": "8b94238c",
   "metadata": {
    "scrolled": false
   },
   "outputs": [
    {
     "data": {
      "text/plain": [
       "<AxesSubplot:ylabel='user,is_weekend'>"
      ]
     },
     "execution_count": 45,
     "metadata": {},
     "output_type": "execute_result"
    },
    {
     "data": {
      "image/png": "[encoded data removed]",
      "text/plain": [
       "<Figure size 720x648 with 1 Axes>"
      ]
     },
     "metadata": {
      "needs_background": "light"
     },
     "output_type": "display_data"
    }
   ],
   "source": [
    "plt.figure(figsize=(10,9))\n",
    "wordPerMsg_weekday_vs_weekend.plot(kind='barh', color=\"#dea5a4\")"
   ]
  },
  {
   "cell_type": "code",
   "execution_count": 46,
   "id": "2e4405f0",
   "metadata": {},
   "outputs": [
    {
     "data": {
      "text/html": [
       "<div>\n",
       "<style scoped>\n",
       "    .dataframe tbody tr th:only-of-type {\n",
       "        vertical-align: middle;\n",
       "    }\n",
       "\n",
       "    .dataframe tbody tr th {\n",
       "        vertical-align: top;\n",
       "    }\n",
       "\n",
       "    .dataframe thead th {\n",
       "        text-align: right;\n",
       "    }\n",
       "</style>\n",
       "<table border=\"1\" class=\"dataframe\">\n",
       "  <thead>\n",
       "    <tr style=\"text-align: right;\">\n",
       "      <th>Weekday</th>\n",
       "      <th>Friday</th>\n",
       "      <th>Monday</th>\n",
       "      <th>Saturday</th>\n",
       "      <th>Sunday</th>\n",
       "      <th>Thursday</th>\n",
       "      <th>Tuesday</th>\n",
       "      <th>Wednesday</th>\n",
       "    </tr>\n",
       "    <tr>\n",
       "      <th>hour</th>\n",
       "      <th></th>\n",
       "      <th></th>\n",
       "      <th></th>\n",
       "      <th></th>\n",
       "      <th></th>\n",
       "      <th></th>\n",
       "      <th></th>\n",
       "    </tr>\n",
       "  </thead>\n",
       "  <tbody>\n",
       "    <tr>\n",
       "      <th>0</th>\n",
       "      <td>45.0</td>\n",
       "      <td>30.0</td>\n",
       "      <td>54.0</td>\n",
       "      <td>32.0</td>\n",
       "      <td>29.0</td>\n",
       "      <td>39.0</td>\n",
       "      <td>28.0</td>\n",
       "    </tr>\n",
       "    <tr>\n",
       "      <th>1</th>\n",
       "      <td>7.0</td>\n",
       "      <td>2.0</td>\n",
       "      <td>7.0</td>\n",
       "      <td>3.0</td>\n",
       "      <td>NaN</td>\n",
       "      <td>3.0</td>\n",
       "      <td>NaN</td>\n",
       "    </tr>\n",
       "    <tr>\n",
       "      <th>2</th>\n",
       "      <td>3.0</td>\n",
       "      <td>NaN</td>\n",
       "      <td>1.0</td>\n",
       "      <td>6.0</td>\n",
       "      <td>NaN</td>\n",
       "      <td>NaN</td>\n",
       "      <td>NaN</td>\n",
       "    </tr>\n",
       "    <tr>\n",
       "      <th>3</th>\n",
       "      <td>NaN</td>\n",
       "      <td>NaN</td>\n",
       "      <td>NaN</td>\n",
       "      <td>NaN</td>\n",
       "      <td>NaN</td>\n",
       "      <td>NaN</td>\n",
       "      <td>1.0</td>\n",
       "    </tr>\n",
       "    <tr>\n",
       "      <th>4</th>\n",
       "      <td>NaN</td>\n",
       "      <td>NaN</td>\n",
       "      <td>NaN</td>\n",
       "      <td>1.0</td>\n",
       "      <td>NaN</td>\n",
       "      <td>NaN</td>\n",
       "      <td>NaN</td>\n",
       "    </tr>\n",
       "  </tbody>\n",
       "</table>\n",
       "</div>"
      ],
      "text/plain": [
       "Weekday  Friday  Monday  Saturday  Sunday  Thursday  Tuesday  Wednesday\n",
       "hour                                                                   \n",
       "0          45.0    30.0      54.0    32.0      29.0     39.0       28.0\n",
       "1           7.0     2.0       7.0     3.0       NaN      3.0        NaN\n",
       "2           3.0     NaN       1.0     6.0       NaN      NaN        NaN\n",
       "3           NaN     NaN       NaN     NaN       NaN      NaN        1.0\n",
       "4           NaN     NaN       NaN     1.0       NaN      NaN        NaN"
      ]
     },
     "execution_count": 46,
     "metadata": {},
     "output_type": "execute_result"
    }
   ],
   "source": [
    "x = df.groupby(['hour', 'Weekday'])['message'].size().reset_index()\n",
    "x2 = x.pivot(\"hour\", 'Weekday', 'message')\n",
    "x2.head()"
   ]
  },
  {
   "cell_type": "code",
   "execution_count": 47,
   "id": "ac077079",
   "metadata": {},
   "outputs": [
    {
     "data": {
      "text/plain": [
       "<AxesSubplot:xlabel='Weekday', ylabel='hour'>"
      ]
     },
     "execution_count": 47,
     "metadata": {},
     "output_type": "execute_result"
    },
    {
     "data": {
      "image/png": "[encoded data removed]",
      "text/plain": [
       "<Figure size 1080x648 with 2 Axes>"
      ]
     },
     "metadata": {
      "needs_background": "light"
     },
     "output_type": "display_data"
    }
   ],
   "source": [
    "days = [\"Monday\", 'Tuesday', \"Wednesday\", \"Thursday\", \"Friday\", \"Saturday\", \"Sunday\"]\n",
    "plt.figure(figsize=(15,9))\n",
    "sns.heatmap(x2[days].fillna(0), robust=True, linecolor=\"black\",linewidths= 0.75)"
   ]
  },
  {
   "cell_type": "code",
   "execution_count": 48,
   "id": "5516b9b1",
   "metadata": {},
   "outputs": [
    {
     "data": {
      "text/plain": [
       "Text(0, 0.5, 'Month')"
      ]
     },
     "execution_count": 48,
     "metadata": {},
     "output_type": "execute_result"
    },
    {
     "data": {
      "image/png": "[encoded data removed]",
      "text/plain": [
       "<Figure size 432x288 with 1 Axes>"
      ]
     },
     "metadata": {
      "needs_background": "light"
     },
     "output_type": "display_data"
    }
   ],
   "source": [
    "df['date'].value_counts().head(10).plot.barh(color=\"#233371\") # Top 10 Dates on which the most number of messages were sent\n",
    "plt.xlabel('Number of Messages')\n",
    "plt.ylabel('Month')"
   ]
  },
  {
   "cell_type": "code",
   "execution_count": 49,
   "id": "18190db0",
   "metadata": {},
   "outputs": [
    {
     "data": {
      "text/html": [
       "<div>\n",
       "<style scoped>\n",
       "    .dataframe tbody tr th:only-of-type {\n",
       "        vertical-align: middle;\n",
       "    }\n",
       "\n",
       "    .dataframe tbody tr th {\n",
       "        vertical-align: top;\n",
       "    }\n",
       "\n",
       "    .dataframe thead th {\n",
       "        text-align: right;\n",
       "    }\n",
       "</style>\n",
       "<table border=\"1\" class=\"dataframe\">\n",
       "  <thead>\n",
       "    <tr style=\"text-align: right;\">\n",
       "      <th></th>\n",
       "      <th>date_time</th>\n",
       "      <th>user</th>\n",
       "      <th>message</th>\n",
       "      <th>date</th>\n",
       "      <th>Year</th>\n",
       "      <th>Day</th>\n",
       "      <th>Month</th>\n",
       "      <th>Time</th>\n",
       "      <th>Weekday</th>\n",
       "      <th>Month Name</th>\n",
       "      <th>hour</th>\n",
       "      <th>is_weekend</th>\n",
       "      <th>no_of_words</th>\n",
       "    </tr>\n",
       "  </thead>\n",
       "  <tbody>\n",
       "    <tr>\n",
       "      <th>4</th>\n",
       "      <td>2020-07-20 20:22:00</td>\n",
       "      <td>Seema Masi</td>\n",
       "      <td>&lt;Media omitted&gt;</td>\n",
       "      <td>2020-07-20</td>\n",
       "      <td>2020</td>\n",
       "      <td>20</td>\n",
       "      <td>7</td>\n",
       "      <td>20:22:00</td>\n",
       "      <td>Monday</td>\n",
       "      <td>July</td>\n",
       "      <td>20</td>\n",
       "      <td>False</td>\n",
       "      <td>2</td>\n",
       "    </tr>\n",
       "    <tr>\n",
       "      <th>5</th>\n",
       "      <td>2020-07-20 20:50:00</td>\n",
       "      <td>Shanu Bhaiya</td>\n",
       "      <td>This message was deleted</td>\n",
       "      <td>2020-07-20</td>\n",
       "      <td>2020</td>\n",
       "      <td>20</td>\n",
       "      <td>7</td>\n",
       "      <td>20:50:00</td>\n",
       "      <td>Monday</td>\n",
       "      <td>July</td>\n",
       "      <td>20</td>\n",
       "      <td>False</td>\n",
       "      <td>4</td>\n",
       "    </tr>\n",
       "  </tbody>\n",
       "</table>\n",
       "</div>"
      ],
      "text/plain": [
       "            date_time          user                    message        date  \\\n",
       "4 2020-07-20 20:22:00    Seema Masi           <Media omitted>   2020-07-20   \n",
       "5 2020-07-20 20:50:00  Shanu Bhaiya  This message was deleted   2020-07-20   \n",
       "\n",
       "   Year  Day  Month      Time Weekday Month Name  hour  is_weekend  \\\n",
       "4  2020   20      7  20:22:00  Monday       July    20       False   \n",
       "5  2020   20      7  20:50:00  Monday       July    20       False   \n",
       "\n",
       "   no_of_words  \n",
       "4            2  \n",
       "5            4  "
      ]
     },
     "execution_count": 49,
     "metadata": {},
     "output_type": "execute_result"
    }
   ],
   "source": [
    "df.head(2)"
   ]
  },
  {
   "cell_type": "code",
   "execution_count": 50,
   "id": "dfefbdd2",
   "metadata": {},
   "outputs": [
    {
     "data": {
      "text/plain": [
       "<AxesSubplot:ylabel='hour'>"
      ]
     },
     "execution_count": 50,
     "metadata": {},
     "output_type": "execute_result"
    },
    {
     "data": {
      "image/png": "[encoded data removed]",
      "text/plain": [
       "<Figure size 432x288 with 1 Axes>"
      ]
     },
     "metadata": {},
     "output_type": "display_data"
    }
   ],
   "source": [
    "df['hour'].value_counts().head(10).plot.pie(shadow=True,radius=1.5,colors=[\"#FAD7A0\",\"#16A085\",\"#000080\",\"#CD5C5C\",\"#4A235A\",\"#A04000\",\"#A9CCE3\",\"#17202A\",\"#CA6F1E\",\"#B03A2E\"],labeldistance=1.09) "
   ]
  },
  {
   "cell_type": "code",
   "execution_count": 51,
   "id": "2431b79f",
   "metadata": {},
   "outputs": [
    {
     "data": {
      "text/plain": [
       "Text(0, 0.5, 'Authors')"
      ]
     },
     "execution_count": 51,
     "metadata": {},
     "output_type": "execute_result"
    },
    {
     "data": {
      "image/png": "[encoded data removed]",
      "text/plain": [
       "<Figure size 432x288 with 1 Axes>"
      ]
     },
     "metadata": {
      "needs_background": "light"
     },
     "output_type": "display_data"
    }
   ],
   "source": [
    "total_letter_count_grouped_by_author = df[['user', 'no_of_words']].groupby('user').sum()\n",
    "sorted_total_letter_count_grouped_by_author = total_letter_count_grouped_by_author.sort_values('no_of_words', ascending=False)\n",
    "top_10_sorted_total_letter_count_grouped_by_author = sorted_total_letter_count_grouped_by_author.head(10)\n",
    "top_10_sorted_total_letter_count_grouped_by_author.plot.barh(color=\"#003322\")\n",
    "plt.xlabel('Number of Letters')\n",
    "plt.ylabel('Authors')"
   ]
  },
  {
   "cell_type": "code",
   "execution_count": 52,
   "id": "239f2c22",
   "metadata": {},
   "outputs": [
    {
     "ename": "NameError",
     "evalue": "name 'media_df' is not defined",
     "output_type": "error",
     "traceback": [
      "\u001b[1;31m---------------------------------------------------------------------------\u001b[0m",
      "\u001b[1;31mNameError\u001b[0m                                 Traceback (most recent call last)",
      "\u001b[1;32m~\\AppData\\Local\\Temp/ipykernel_35220/3504711847.py\u001b[0m in \u001b[0;36m<module>\u001b[1;34m\u001b[0m\n\u001b[0;32m      1\u001b[0m \u001b[0mmediadf\u001b[0m \u001b[1;33m=\u001b[0m \u001b[0mdf\u001b[0m\u001b[1;33m[\u001b[0m\u001b[0mdf\u001b[0m\u001b[1;33m[\u001b[0m\u001b[1;34m'message'\u001b[0m\u001b[1;33m]\u001b[0m \u001b[1;33m==\u001b[0m \u001b[1;34m\"<Media omitted>\"\u001b[0m\u001b[1;33m]\u001b[0m\u001b[1;33m.\u001b[0m\u001b[0mgroupby\u001b[0m\u001b[1;33m(\u001b[0m\u001b[1;34m\"user\"\u001b[0m\u001b[1;33m)\u001b[0m\u001b[1;33m.\u001b[0m\u001b[0mcount\u001b[0m\u001b[1;33m(\u001b[0m\u001b[1;33m)\u001b[0m\u001b[1;33m.\u001b[0m\u001b[0msort_values\u001b[0m\u001b[1;33m(\u001b[0m\u001b[0mby\u001b[0m\u001b[1;33m=\u001b[0m\u001b[1;34m\"message\"\u001b[0m\u001b[1;33m,\u001b[0m\u001b[0mascending\u001b[0m\u001b[1;33m=\u001b[0m\u001b[1;32mFalse\u001b[0m\u001b[1;33m)\u001b[0m\u001b[1;33m.\u001b[0m\u001b[0mhead\u001b[0m\u001b[1;33m(\u001b[0m\u001b[1;36m10\u001b[0m\u001b[1;33m)\u001b[0m\u001b[1;33m\u001b[0m\u001b[1;33m\u001b[0m\u001b[0m\n\u001b[1;32m----> 2\u001b[1;33m \u001b[0mprint\u001b[0m\u001b[1;33m(\u001b[0m\u001b[0mmedia_df\u001b[0m\u001b[1;33m.\u001b[0m\u001b[0mhead\u001b[0m\u001b[1;33m(\u001b[0m\u001b[1;33m)\u001b[0m\u001b[1;33m)\u001b[0m\u001b[1;33m\u001b[0m\u001b[1;33m\u001b[0m\u001b[0m\n\u001b[0m",
      "\u001b[1;31mNameError\u001b[0m: name 'media_df' is not defined"
     ]
    }
   ],
   "source": [
    "mediadf = df[df['message'] == \"<Media omitted>\"].groupby(\"user\").count().sort_values(by=\"message\",ascending=False).head(10)\n",
    "print(media_df.head())"
   ]
  },
  {
   "cell_type": "code",
   "execution_count": null,
   "id": "845535f1",
   "metadata": {},
   "outputs": [],
   "source": [
    "user_media_messages_value_counts = media_messages_df['user'].value_counts()\n",
    "top_10_user_media_messages_value_counts = user_media_messages_value_counts.head(10)\n",
    "top_10_user_media_messages_value_counts.plot.barh()"
   ]
  },
  {
   "cell_type": "code",
   "execution_count": null,
   "id": "f05251be",
   "metadata": {},
   "outputs": [],
   "source": []
  }
 ],
 "metadata": {
  "kernelspec": {
   "display_name": "Python 3 (ipykernel)",
   "language": "python",
   "name": "python3"
  },
  "language_info": {
   "codemirror_mode": {
    "name": "ipython",
    "version": 3
   },
   "file_extension": ".py",
   "mimetype": "text/x-python",
   "name": "python",
   "nbconvert_exporter": "python",
   "pygments_lexer": "ipython3",
   "version": "3.9.5"
  }
 },
 "nbformat": 4,
 "nbformat_minor": 5
}
